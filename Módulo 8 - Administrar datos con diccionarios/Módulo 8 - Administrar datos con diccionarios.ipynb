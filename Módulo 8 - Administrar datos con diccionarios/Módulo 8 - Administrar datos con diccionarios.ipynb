{
 "cells": [
  {
   "cell_type": "markdown",
   "metadata": {},
   "source": [
    "\n",
    "# Ejercicio 1: Creación de diccionarios de Python"
   ]
  },
  {
   "cell_type": "code",
   "execution_count": 8,
   "metadata": {},
   "outputs": [
    {
     "name": "stdout",
     "output_type": "stream",
     "text": [
      "The planet Mars has 2 moons\n",
      "Planet: Mars.\n",
      "Circumference: 6752\n"
     ]
    }
   ],
   "source": [
    "# Crea un diccionario llamado planet con los datos propuestos\n",
    "planet = {\n",
    "    'name': 'Mars',\n",
    "    'moons': 2\n",
    "}\n",
    "# Muestra el nombre del planeta y el número de lunas que tiene.\n",
    "print(f\"The planet {planet.get('name')} has {planet.get('moons')} moons\")\n",
    "# Agrega la clave circunferencia con los datos proporcionados previamente\n",
    "planet.update({'circunferencia (km)': {\n",
    "    'polar': 6752,\n",
    "    'equatorial': 6792\n",
    "}})\n",
    "# Imprime el nombre del planeta con su circunferencia polar.\n",
    "circunferencia = planet.get('circunferencia (km)')\n",
    "print(f\"\"\"Planet: {planet.get('name')}.\n",
    "Circumference: {circunferencia.get('polar')}\"\"\")"
   ]
  },
  {
   "cell_type": "markdown",
   "metadata": {},
   "source": [
    "# Ejercicio 2: Programación dinámica con diccionarios"
   ]
  },
  {
   "cell_type": "code",
   "execution_count": 11,
   "metadata": {},
   "outputs": [
    {
     "name": "stdout",
     "output_type": "stream",
     "text": [
      "17.833333333333332\n"
     ]
    }
   ],
   "source": [
    "# Planets and moons\n",
    "\n",
    "planet_moons = {\n",
    "    'mercury': 0,\n",
    "    'venus': 0,\n",
    "    'earth': 1,\n",
    "    'mars': 2,\n",
    "    'jupiter': 79,\n",
    "    'saturn': 82,\n",
    "    'uranus': 27,\n",
    "    'neptune': 14,\n",
    "    'pluto': 5,\n",
    "    'haumea': 2,\n",
    "    'makemake': 1,\n",
    "    'eris': 1\n",
    "}\n",
    "# Añade el código para determinar el número de lunas.\n",
    "moons = planet_moons.values()\n",
    "countPlanets = len(planet_moons.keys())\n",
    "# Agrega el código para contar el número de lunas. \n",
    "total_moon = 0\n",
    "for moon in moons:\n",
    "    total_moon += moon\n",
    "average = total_moon / countPlanets\n",
    "print(average)"
   ]
  }
 ],
 "metadata": {
  "interpreter": {
   "hash": "d2456cbf87cc8a3055a58329a962cf4e10d613c3bd4c640dc9e38d3f90713ea0"
  },
  "kernelspec": {
   "display_name": "Python 3.10.2 64-bit",
   "language": "python",
   "name": "python3"
  },
  "language_info": {
   "codemirror_mode": {
    "name": "ipython",
    "version": 3
   },
   "file_extension": ".py",
   "mimetype": "text/x-python",
   "name": "python",
   "nbconvert_exporter": "python",
   "pygments_lexer": "ipython3",
   "version": "3.10.2"
  },
  "orig_nbformat": 4
 },
 "nbformat": 4,
 "nbformat_minor": 2
}
