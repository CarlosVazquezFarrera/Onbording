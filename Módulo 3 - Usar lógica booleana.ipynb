{
 "cells": [
  {
   "cell_type": "markdown",
   "metadata": {},
   "source": [
    "# Añadir el código necesario para crear una variable que guarde la velocidad del asteroide.\n",
    "# Escribe una expresión de prueba para calcular si necesita una advertencia.\n",
    "# Agregue las instrucciones que se ejecutarán si la expresión de prueba es true o false."
   ]
  },
  {
   "cell_type": "code",
   "execution_count": 1,
   "metadata": {},
   "outputs": [
    {
     "name": "stdout",
     "output_type": "stream",
     "text": [
      "Un asteroide se acerca a la Tierra demasiado rápido\n"
     ]
    }
   ],
   "source": [
    "velocidadAsterioide = 49\n",
    "velocidadMaxima = 25\n",
    "if velocidadAsterioide > velocidadMaxima:\n",
    "    print(\"Un asteroide se acerca a la Tierra demasiado rápido\")\n",
    "else:\n",
    "    print(\"Sin novedad\")"
   ]
  },
  {
   "cell_type": "markdown",
   "metadata": {},
   "source": [
    "\n",
    "# Agrega el código para crear una variable para un asteroide que viaja a 19 km/s\n",
    "# Escribe varias expresiones de prueba para determinar si puedes ver el rayo de luz desde la tierra\n",
    "# Agrega las instrucciones que se ejecutarán si las expresiones de prueba son True o False"
   ]
  },
  {
   "cell_type": "code",
   "execution_count": 2,
   "metadata": {},
   "outputs": [
    {
     "name": "stdout",
     "output_type": "stream",
     "text": [
      "Sin novedad\n"
     ]
    }
   ],
   "source": [
    "velocidadAsterioide = 19\n",
    "velocidadMaxima = 20\n",
    "if velocidadAsterioide > velocidadMaxima:\n",
    "    print(\"Mira al cielo y observa al asteroide\")\n",
    "elif velocidadAsterioide == velocidadMaxima:\n",
    "    print(\"Mira al cielo y observa al asteroide\")\n",
    "else:\n",
    "    print(\"Sin novedad\")"
   ]
  },
  {
   "cell_type": "markdown",
   "metadata": {},
   "source": [
    "\n",
    "# Agrega el código para crear nuevas variables para la velocidad y el tamaño del asteroide\n",
    "# Para probar el código, prueba con varias velocidades y tamaños\n",
    "# Escribe varias expresiones de prueba o combinaciones de expresiones de prueba para determinar qué mensaje se debe enviar a Tierra."
   ]
  },
  {
   "cell_type": "code",
   "execution_count": 16,
   "metadata": {},
   "outputs": [
    {
     "name": "stdout",
     "output_type": "stream",
     "text": [
      "Mira los rayos en el cielo\n"
     ]
    }
   ],
   "source": [
    "velocidadAsterioide = 21\n",
    "tamanioAsteriode = 26\n",
    "\n",
    "velocidadMaxima = 25\n",
    "velocidadMaximaEnAtmosfera = 20\n",
    "tamanioMinimo = 25\n",
    "tamanioMaximo = 1000\n",
    "if ((tamanioAsteriode > tamanioMinimo and tamanioAsteriode < tamanioMaximo)):\n",
    "    if (velocidadAsterioide > velocidadMaxima):\n",
    "        print(\"Un veloz y enorme asteriode viene a la tierra\")\n",
    "    elif (velocidadAsterioide > velocidadMaximaEnAtmosfera and velocidadAsterioide < velocidadMaxima):\n",
    "        print(\"Mira los rayos en el cielo\")\n",
    "else:\n",
    "    print(\"Sin novedad\")"
   ]
  }
 ],
 "metadata": {
  "interpreter": {
   "hash": "d2456cbf87cc8a3055a58329a962cf4e10d613c3bd4c640dc9e38d3f90713ea0"
  },
  "kernelspec": {
   "display_name": "Python 3.10.2 64-bit",
   "language": "python",
   "name": "python3"
  },
  "language_info": {
   "codemirror_mode": {
    "name": "ipython",
    "version": 3
   },
   "file_extension": ".py",
   "mimetype": "text/x-python",
   "name": "python",
   "nbconvert_exporter": "python",
   "pygments_lexer": "ipython3",
   "version": "3.10.2"
  },
  "orig_nbformat": 4
 },
 "nbformat": 4,
 "nbformat_minor": 2
}
