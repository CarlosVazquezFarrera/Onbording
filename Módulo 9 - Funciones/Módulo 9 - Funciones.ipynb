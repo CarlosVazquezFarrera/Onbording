{
 "cells": [
  {
   "cell_type": "markdown",
   "metadata": {},
   "source": [
    "# Ejercicio 1: Trabajar con argumentos en funciones"
   ]
  },
  {
   "cell_type": "code",
   "execution_count": 21,
   "metadata": {},
   "outputs": [
    {
     "name": "stdout",
     "output_type": "stream",
     "text": [
      "Tanque número 1: 12 % de combustible\n",
      "Tanque número 2: 0 % de combustible\n",
      "Tanque número 3: 34 % de combustible\n",
      "Cantidad de combustible total en los tres tanques: 46 \n",
      "    ________________________________________________\n",
      "    Cantidad promedio en cada tanque 46.0\n"
     ]
    }
   ],
   "source": [
    "# Función para leer 3 tanques de combustible y muestre el promedio\n",
    "def comprobarTanques(*tanques):\n",
    "    totalCombustible = 0\n",
    "    for index, tanque in enumerate(tanques):\n",
    "        print(f\"Tanque número {index + 1}: {tanque} % de combustible\")\n",
    "        totalCombustible += tanque\n",
    "    return f\"\"\"Cantidad de combustible total en los tres tanques: {totalCombustible} \n",
    "    {'_'*48}\n",
    "    Cantidad promedio en cada tanque {cantidaPromedioDeListrosEnTanques(totalCombustible, tanques)}\"\"\"\n",
    "  #Función promedio \n",
    "\n",
    "def cantidaPromedioDeListrosEnTanques(total, *tanques):\n",
    "     return (total) / len(tanques)\n",
    "\n",
    "# Llamamos a la función que genera el reporte print(funcion(tanque1, tanque2, tanque3))\n",
    "print(comprobarTanques(12, 0, 34))\n",
    "\n"
   ]
  },
  {
   "cell_type": "markdown",
   "metadata": {},
   "source": [
    "\n",
    "# Ejercicio 2: Trabajo con argumentos de palabra clave"
   ]
  },
  {
   "cell_type": "code",
   "execution_count": 1,
   "metadata": {},
   "outputs": [
    {
     "name": "stdout",
     "output_type": "stream",
     "text": [
      "\n",
      "    Destinmo Marte\n",
      "    Tiempo total de vuelo: 157\n",
      "    Cantidad total de cobustible: 2335 gallons\n",
      "    \n"
     ]
    }
   ],
   "source": [
    "#Función con un informe preciso de la misión. Considera hora de prelanzamiento, tiempo de vuelo, destino, tanque externo y tanque interno\n",
    "def reporte(relanzamiento, duracion, destino, tanqueExtra, tanqueInterno):\n",
    "     print(f\"\"\"\n",
    "    Destinmo: {destino}\n",
    "    Tiempo total de vuelo: {relanzamiento + duracion}\n",
    "    Cantidad total de cobustible: {tanqueExtra + tanqueInterno} gallons\n",
    "    \"\"\")\n",
    "reporte(34, 123, 'Marte', 12, 2323)"
   ]
  },
  {
   "cell_type": "code",
   "execution_count": 4,
   "metadata": {},
   "outputs": [
    {
     "name": "stdout",
     "output_type": "stream",
     "text": [
      "\n",
      "    Destinmo: Marte\n",
      "    Tiempo total de vuelo: 15\n",
      "    ------------------------------------------------\n",
      "-> Tanque: Principal - 50 listros\n",
      "-> Tanque: Externo - 150 listros\n"
     ]
    }
   ],
   "source": [
    "# Escribe tu nueva función de reporte\n",
    "def reporte(destino, *minutos, **tanques):\n",
    "    print(f\"\"\"\n",
    "    Destinmo: {destino}\n",
    "    Tiempo total de vuelo: {sum(minutos)}\n",
    "    {'-'*48}\"\"\")\n",
    "    for tanque, cantidad in tanques.items():\n",
    "        print(f\"-> Tanque: {tanque.title()} - {cantidad} listros\")\n",
    "reporte(\"Marte\", 5, 5, 5, principal=50, externo=150)"
   ]
  }
 ],
 "metadata": {
  "interpreter": {
   "hash": "d2456cbf87cc8a3055a58329a962cf4e10d613c3bd4c640dc9e38d3f90713ea0"
  },
  "kernelspec": {
   "display_name": "Python 3.10.2 64-bit",
   "language": "python",
   "name": "python3"
  },
  "language_info": {
   "codemirror_mode": {
    "name": "ipython",
    "version": 3
   },
   "file_extension": ".py",
   "mimetype": "text/x-python",
   "name": "python",
   "nbconvert_exporter": "python",
   "pygments_lexer": "ipython3",
   "version": "3.10.2"
  },
  "orig_nbformat": 4
 },
 "nbformat": 4,
 "nbformat_minor": 2
}
